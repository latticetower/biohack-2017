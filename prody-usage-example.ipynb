{
 "cells": [
  {
   "cell_type": "markdown",
   "metadata": {},
   "source": [
    "# 0. Get some sample structure from KEGG"
   ]
  },
  {
   "cell_type": "code",
   "execution_count": 114,
   "metadata": {
    "collapsed": false
   },
   "outputs": [],
   "source": [
    "from bioservices.kegg import KEGG\n",
    "k=KEGG()\n",
    "\n",
    "# this script also uses Biopython and ProDy libraries"
   ]
  },
  {
   "cell_type": "code",
   "execution_count": 33,
   "metadata": {
    "collapsed": false
   },
   "outputs": [],
   "source": [
    "geneIdsInPathways = [ x.split()[0] for x in k.find(\"hsa\", \"p53\").split(\"\\n\") if len(x.split()) > 0]\n",
    "#geneIdsInPathways = geneIdsInPathways[:1]"
   ]
  },
  {
   "cell_type": "code",
   "execution_count": 35,
   "metadata": {
    "collapsed": false
   },
   "outputs": [],
   "source": [
    "#geneIdsInPathways=['hsa:3265']"
   ]
  },
  {
   "cell_type": "code",
   "execution_count": 119,
   "metadata": {
    "collapsed": false
   },
   "outputs": [],
   "source": [
    "pdbByGene = dict()\n",
    "# for now store sequence information for gene in dictionary also\n",
    "aaSeqByGene = dict()\n",
    "for geneId in geneIdsInPathways:\n",
    "    geneInfo = k.parse(k.get(geneId))\n",
    "    if 'AASEQ' in geneInfo:\n",
    "        aaSeqByGene[geneId] = geneInfo['AASEQ'].replace(' ', '') \n",
    "        # this might be empty, should show something in else clause\n",
    "    if 'STRUCTURE' in geneInfo:\n",
    "        pdbByGene[geneId] = geneInfo['STRUCTURE']['PDB'].split()"
   ]
  },
  {
   "cell_type": "code",
   "execution_count": 120,
   "metadata": {
    "collapsed": false
   },
   "outputs": [
    {
     "data": {
      "text/plain": [
       "['2OSL']"
      ]
     },
     "execution_count": 120,
     "metadata": {},
     "output_type": "execute_result"
    }
   ],
   "source": [
    "p53pdbIds = list(reduce(sum, map(set, pdbByGene.values()), set()))\n",
    "p53pdbIds = ['2OSL']#p53pdbIds[:2]\n",
    "p53pdbIds # for example, let's take the 1st one\n",
    "\n",
    "# TODO: for simplicity, I decided to test on one multichain structure for now. to be fixed"
   ]
  },
  {
   "cell_type": "code",
   "execution_count": 121,
   "metadata": {
    "collapsed": false
   },
   "outputs": [
    {
     "name": "stderr",
     "output_type": "stream",
     "text": [
      "@> Local PDB folder is set: '/Users/lacemaker/github/biohack-2017/pdb'\n",
      "INFO:.prody:Local PDB folder is set: '/Users/lacemaker/github/biohack-2017/pdb'\n",
      "@> A plain folder structure will be assumed.\n",
      "INFO:.prody:A plain folder structure will be assumed.\n",
      "@> PDB file is found in the local folder (/Users/lacemaker/.../2osl.pdb.gz).\n",
      "DEBUG:.prody:PDB file is found in the local folder (/Users/lacemaker/.../2osl.pdb.gz).\n"
     ]
    }
   ],
   "source": [
    "import os, prody\n",
    "PDB_PATH = \"pdb\"\n",
    "if not os.path.exists(PDB_PATH):\n",
    "    os.mkdir(PDB_PATH)\n",
    "    # TODO: for now I haven't checked if pathPDBFolder creates this folder - \n",
    "    # if it is created, this check should be removed.\n",
    "prody.proteins.localpdb.pathPDBFolder(PDB_PATH)\n",
    "# next - download all structures if they are not present and were not previously processed \n",
    "\n",
    "# all other checks are skipped now, will appear here later\n",
    "\n",
    "downloadedPDBs = prody.proteins.localpdb.fetchPDB(p53pdbIds) # use filtered structures list\n",
    "# TODO: some of PDB identifiers correspond to structures which has only .cif files. \n",
    "# in case if they are present we should check fetched PDB files and to store PDBIDs \n",
    "# which were not downloaded somewhere.\n"
   ]
  },
  {
   "cell_type": "code",
   "execution_count": 122,
   "metadata": {
    "collapsed": false
   },
   "outputs": [],
   "source": [
    "if isinstance(downloadedPDBs, str):\n",
    "    downloadedPDBs = [downloadedPDBs] # this is to fix a library bug - \n",
    "    # when structure is found and there is only one, method returns <str> instead of [<str>]"
   ]
  },
  {
   "cell_type": "code",
   "execution_count": 123,
   "metadata": {
    "collapsed": false
   },
   "outputs": [],
   "source": [
    "d = \"\"\n",
    "for downloadedPDB in filter(lambda x: x, downloadedPDBs):\n",
    "    d = downloadedPDB\n",
    "    pass"
   ]
  },
  {
   "cell_type": "code",
   "execution_count": 124,
   "metadata": {
    "collapsed": false
   },
   "outputs": [
    {
     "name": "stderr",
     "output_type": "stream",
     "text": [
      "@> 7100 atoms and 1 coordinate set(s) were parsed in 0.07s.\n",
      "DEBUG:.prody:7100 atoms and 1 coordinate set(s) were parsed in 0.07s.\n"
     ]
    }
   ],
   "source": [
    "atoms, atoms_header = prody.parsePDB(d, header=True)"
   ]
  },
  {
   "cell_type": "code",
   "execution_count": 146,
   "metadata": {
    "collapsed": false
   },
   "outputs": [
    {
     "data": {
      "text/plain": [
       "('HEAVY CHAIN OF THE RITUXIMAB FAB FRAGMENT',\n",
       " <Polymer: HEAVY CHAIN OF THE RITUXIMAB FAB FRAGMENT (2OSL_A)>)"
      ]
     },
     "execution_count": 146,
     "metadata": {},
     "output_type": "execute_result"
    }
   ],
   "source": [
    "from Bio.pairwise2 import *\n",
    "from Bio.SubsMat import MatrixInfo as matlist\n",
    "matrix = matlist.blosum62\n",
    "    \n",
    "def get_chain_score(refSequence, molecules):\n",
    "    result = sorted([\n",
    "        (align.globaldx(refSequence, p.sequence, matrix, score_only=True), \n",
    "         molecule_name, \n",
    "         p # or this can be p.chid - chain identifier\n",
    "        )\n",
    "        for molecule_name in molecules for p in molecules[molecule_name]\n",
    "    ], reverse=True)\n",
    "    # best possible molecule name at the beginning of the list\n",
    "    return result[0][1:] # suppose there is at least 1 and return molecule name and polymer, without score\n",
    "    \n"
   ]
  },
  {
   "cell_type": "code",
   "execution_count": 155,
   "metadata": {
    "collapsed": false
   },
   "outputs": [],
   "source": [
    "# first group by polymer name\n",
    "molecules = dict() # it doesn't guarantee anything, see 2OSL.pdb: heavy and light chains are actually \n",
    "# parts of the same antibody\n",
    "# what about small molecules? for now let's ignore them\n",
    "# 1. prepare - group by molecules\n",
    "for polymer in atoms_header['polymers']:\n",
    "    if not polymer.name in molecules:\n",
    "        molecules[polymer.name] = []\n",
    "    molecules[polymer.name].append(polymer)\n",
    "    #print(polymer.chid, polymer.sequence, atoms[polymer.chid])\n",
    "# 2. detect molecule with chain most similar to one corresponding to gene\n",
    "(ref_molecule_name, ref_polymer) = get_chain_score(aaSeqByGene.values()[0], molecules)"
   ]
  },
  {
   "cell_type": "code",
   "execution_count": 156,
   "metadata": {
    "collapsed": false
   },
   "outputs": [
    {
     "name": "stdout",
     "output_type": "stream",
     "text": [
      "B-LYMPHOCYTE ANTIGEN CD20\n"
     ]
    }
   ],
   "source": [
    "# 3a.\n",
    "ref_chain_atoms = atoms[ref_polymer.chid] # this atoms set correspond to chain we believe is a reference\n",
    "chain2_atoms = None\n",
    "# 3. iterate over other structures\n",
    "for molecule_name in molecules:\n",
    "    if molecule_name == ref_molecule_name:\n",
    "        continue # skip chains with the same MOL_ID as in reference\n",
    "    # iterate over chains in structures\n",
    "    # there should be pickle save and load somewhere near this point\n",
    "    for polymer in molecules[molecule_name]:\n",
    "        chain2_atoms = atoms[polymer.chid]\n",
    "        break\n",
    "    print molecule_name\n",
    "    break\n",
    "# TODO: there might be 'SPLIT' in header. should check and save somewhere if this is present and process separately"
   ]
  },
  {
   "cell_type": "code",
   "execution_count": 189,
   "metadata": {
    "collapsed": false
   },
   "outputs": [],
   "source": [
    "chain2_atoms # got this\n",
    "ref_chain_atoms # and this\n",
    "reference_contacts = Contacts(ref_chain_atoms)"
   ]
  },
  {
   "cell_type": "code",
   "execution_count": 190,
   "metadata": {
    "collapsed": true
   },
   "outputs": [],
   "source": [
    "# let's check: if there is one structure, in file there is no point to download this pdb file."
   ]
  },
  {
   "cell_type": "code",
   "execution_count": 191,
   "metadata": {
    "collapsed": true
   },
   "outputs": [],
   "source": [
    "from prody import *\n",
    "\n",
    "from pylab import *\n",
    "\n",
    "ion()"
   ]
  },
  {
   "cell_type": "code",
   "execution_count": 225,
   "metadata": {
    "collapsed": false
   },
   "outputs": [],
   "source": [
    "distance_cutoff = 4 # TODO: this should be constant\n",
    "ref_selection = reference_contacts.select(distance_cutoff, chain2_atoms)"
   ]
  },
  {
   "cell_type": "code",
   "execution_count": 226,
   "metadata": {
    "collapsed": false
   },
   "outputs": [
    {
     "data": {
      "text/plain": [
       "\"<Selection: 'index 5157 to 5...21 to 5728 7070' from 2osl (41 atoms)>\""
      ]
     },
     "execution_count": 226,
     "metadata": {},
     "output_type": "execute_result"
    }
   ],
   "source": [
    "repr(ref_selection) \n",
    "# TODO: next check getResindices, getResnames, or getResnums - see details here\n",
    "# http://prody.csb.pitt.edu/manual/reference/atomic/selection.html#prody.atomic.selection.Selection"
   ]
  },
  {
   "cell_type": "code",
   "execution_count": 227,
   "metadata": {
    "collapsed": true
   },
   "outputs": [],
   "source": [
    "# pseudocode: for each Cys atom in selection: check atoms in ref and detect if Cys-Cys link is found.\n",
    "# actually I don't know what to do with selenocysteine atoms? ignore or not?\n",
    "# do we look for disulfide bonds? should check task description"
   ]
  },
  {
   "cell_type": "code",
   "execution_count": 228,
   "metadata": {
    "collapsed": true
   },
   "outputs": [],
   "source": [
    "# draw something (at least draw only part of the reference chain)\n",
    "# see this http://prody.csb.pitt.edu/manual/reference/proteins/functions.html\n",
    "# and this\n",
    "# http://prody.csb.pitt.edu/manual/reference/atomic/selection.html"
   ]
  },
  {
   "cell_type": "code",
   "execution_count": 229,
   "metadata": {
    "collapsed": false
   },
   "outputs": [
    {
     "data": {
      "image/png": "[encoded data removed]",
      "text/plain": [
       "<matplotlib.figure.Figure at 0x11652edd0>"
      ]
     },
     "metadata": {},
     "output_type": "display_data"
    }
   ],
   "source": [
    "prody.proteins.functions.showProtein(ref_selection);\n",
    "# something is drawn, as you can see at the picture below:"
   ]
  },
  {
   "cell_type": "code",
   "execution_count": 230,
   "metadata": {
    "collapsed": false
   },
   "outputs": [
    {
     "data": {
      "text/plain": [
       "array([ 682,  682,  682,  684,  684,  696,  699,  699,  699,  700,  700,\n",
       "        701,  701,  701,  701,  701,  704,  706,  706,  706,  706,  706,\n",
       "        707,  707,  707,  708,  708,  708,  748,  748,  751,  751,  755,\n",
       "        755,  755,  755,  755,  755,  755,  755, 1095])"
      ]
     },
     "execution_count": 230,
     "metadata": {},
     "output_type": "execute_result"
    }
   ],
   "source": [
    "ref_selection.getResindices() # TODO: use this to make better picture"
   ]
  },
  {
   "cell_type": "code",
   "execution_count": null,
   "metadata": {
    "collapsed": false
   },
   "outputs": [],
   "source": []
  },
  {
   "cell_type": "code",
   "execution_count": null,
   "metadata": {
    "collapsed": true
   },
   "outputs": [],
   "source": []
  }
 ],
 "metadata": {
  "kernelspec": {
   "display_name": "Python 2",
   "language": "python",
   "name": "python2"
  },
  "language_info": {
   "codemirror_mode": {
    "name": "ipython",
    "version": 2
   },
   "file_extension": ".py",
   "mimetype": "text/x-python",
   "name": "python",
   "nbconvert_exporter": "python",
   "pygments_lexer": "ipython2",
   "version": "2.7.13"
  }
 },
 "nbformat": 4,
 "nbformat_minor": 2
}
