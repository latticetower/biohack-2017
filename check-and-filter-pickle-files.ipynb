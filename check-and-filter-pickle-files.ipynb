{
 "cells": [
  {
   "cell_type": "markdown",
   "metadata": {},
   "source": [
    "Предполагается, что на предыдущих этапах мы получили какой-то список данных с PDB и 2 идентификаторами цепочек. Про одну из таких цепочек мы знаем, что она пришла от онкогена.\n",
    "\n",
    "Ниже я хочу проверить, что загруженные из репозитория сохраненные файлы открываются корректно и они действительно большие (вчера у меня была проблема с их загрузкой из репозитория)\n",
    "\n",
    "Предполагается, что ранее были запущены скрипты\n",
    "\n",
    "```{bash}\n",
    "make_gene_list.py\n",
    "\n",
    "kegg.py\n",
    "```\n",
    "\n",
    "В репозитории файл сгенерирован питоном 3, поэтому его можно загрузить pickle по протоколу версии 3 (которая есть только в 3 питоне)."
   ]
  },
  {
   "cell_type": "code",
   "execution_count": 1,
   "metadata": {
    "collapsed": true
   },
   "outputs": [],
   "source": [
    "import pickle"
   ]
  },
  {
   "cell_type": "code",
   "execution_count": 2,
   "metadata": {
    "collapsed": true
   },
   "outputs": [],
   "source": [
    "data_file = \"gene_name_to_gene_ids_pdb_ids.pickle\""
   ]
  },
  {
   "cell_type": "code",
   "execution_count": 3,
   "metadata": {
    "collapsed": false
   },
   "outputs": [],
   "source": [
    "genes = pickle.load(open(data_file, \"rb\"))"
   ]
  },
  {
   "cell_type": "markdown",
   "metadata": {},
   "source": [
    "Посмотрим общее количество всего (все гены, для которых есть информация по структурам)"
   ]
  },
  {
   "cell_type": "code",
   "execution_count": 4,
   "metadata": {
    "collapsed": false
   },
   "outputs": [
    {
     "name": "stdout",
     "output_type": "stream",
     "text": [
      "total 2230\n",
      "with pdb information 1164\n"
     ]
    }
   ],
   "source": [
    "gene_candidates = list(filter(lambda x: x!='', list(genes)))\n",
    "print(\"total\", len(gene_candidates))\n",
    "gene_candidates = list(filter(lambda x: x!='' and len(genes[x][1]) > 0, list(genes)))\n",
    "print(\"with pdb information\", len(gene_candidates))"
   ]
  },
  {
   "cell_type": "markdown",
   "metadata": {},
   "source": [
    "Теперь хорошей идеей будет оставить только гены, в последовательности аминокислот которых есть цистеин (соответствует текущим условиям задачи, если я правильно понимаю).\n",
    "\n",
    "Но сначала посмотрим, сколько идентификаторов путей и различных PDB файлов соответствуют найденным генам"
   ]
  },
  {
   "cell_type": "code",
   "execution_count": 5,
   "metadata": {
    "collapsed": false
   },
   "outputs": [],
   "source": [
    "totalGeneIds = set()\n",
    "totalPdbIds = set()\n",
    "for geneIds, pdbIds in genes.values():\n",
    "    if len(pdbIds) == 0:\n",
    "        continue\n",
    "    totalGeneIds |= set(geneIds)\n",
    "    totalPdbIds |= set(pdbIds)\n",
    "    #break"
   ]
  },
  {
   "cell_type": "code",
   "execution_count": 6,
   "metadata": {
    "collapsed": false
   },
   "outputs": [
    {
     "name": "stdout",
     "output_type": "stream",
     "text": [
      "total geneIds 4578\n",
      "total pdbids 13461\n"
     ]
    }
   ],
   "source": [
    "print(\"total geneIds\", len(totalGeneIds))\n",
    "print(\"total pdbids\", len(totalPdbIds))"
   ]
  },
  {
   "cell_type": "markdown",
   "metadata": {},
   "source": [
    "Теперь для каждого из генов посмотрим, есть ли там цистеин и оставим те структуры, для которых он точно где-то есть (длительная операция)"
   ]
  },
  {
   "cell_type": "code",
   "execution_count": 7,
   "metadata": {
    "collapsed": false
   },
   "outputs": [
    {
     "name": "stderr",
     "output_type": "stream",
     "text": [
      "@> Local PDB folder is set: '/Users/lacemaker/github/biohack-2017/pdb'\n",
      "INFO:.prody:Local PDB folder is set: '/Users/lacemaker/github/biohack-2017/pdb'\n",
      "@> A plain folder structure will be assumed.\n",
      "INFO:.prody:A plain folder structure will be assumed.\n"
     ]
    }
   ],
   "source": [
    "from structure_processor import getKeggInfoForGene"
   ]
  },
  {
   "cell_type": "code",
   "execution_count": 17,
   "metadata": {
    "collapsed": false
   },
   "outputs": [],
   "source": [
    "filteredPdbByGeneIds = dict()\n",
    "if os.path.exists(\"filtered_pdb_list.txt\"):\n",
    "    with open(\"filtered_pdb_list.txt\") as f:\n",
    "        for line in f:\n",
    "            name, geneId, pdbIds = line.strip().split()\n",
    "            if not name in filteredPdbByGeneIds:\n",
    "                filteredPdbByGeneIds[name] = dict()\n",
    "            filteredPdbByGeneIds[name][geneId] = pdbIds.split(\",\")\n",
    "            pass\n",
    "        \n",
    "for gene_name in gene_candidates:\n",
    "    if gene_name in filteredPdbByGeneIds:\n",
    "        continue\n",
    "    pdbIds, geneIdByPDB, uniprotIdsByGene, aaSequencesByGene, pdbIdsByGene = getKeggInfoForGene(\"hsa\", gene_name)\n",
    "    filteredPdbByGeneIds[gene_name] = {\n",
    "        geneId: pdbIdsByGene[geneId] for geneId in aaSequencesByGene\n",
    "        if geneId in pdbIdsByGene and aaSequencesByGene[geneId].find('C') >= 0 # it means that there is cysteine\n",
    "    }\n",
    "    with open(\"filtered_pdb_list.txt\", 'a') as f:\n",
    "        for geneId in filteredPdbByGeneIds[gene_name]:\n",
    "            f.write(\" \".join([gene_name, geneId, \",\".join(pdbIdsByGene[geneId])\n",
    "                             ])+\"\\n\")"
   ]
  },
  {
   "cell_type": "code",
   "execution_count": 66,
   "metadata": {
    "collapsed": false
   },
   "outputs": [],
   "source": [
    "keggCache = pickle.load(open(\"keggToUniprot\", \"rb\"))\n"
   ]
  },
  {
   "cell_type": "code",
   "execution_count": null,
   "metadata": {
    "collapsed": false
   },
   "outputs": [],
   "source": []
  },
  {
   "cell_type": "code",
   "execution_count": 81,
   "metadata": {
    "collapsed": false
   },
   "outputs": [
    {
     "data": {
      "text/plain": [
       "{'A0A024R4G8', 'B2RCA1', 'P52735', 'Q96BD6', 'Q96MN2'}"
      ]
     },
     "execution_count": 81,
     "metadata": {},
     "output_type": "execute_result"
    }
   ],
   "source": [
    "set(keggCache[list(keggCache)[3]])"
   ]
  },
  {
   "cell_type": "code",
   "execution_count": 20,
   "metadata": {
    "collapsed": false
   },
   "outputs": [],
   "source": [
    " from functools import reduce"
   ]
  },
  {
   "cell_type": "code",
   "execution_count": 77,
   "metadata": {
    "collapsed": false
   },
   "outputs": [],
   "source": [
    "reorderedAndFiltered = dict()\n",
    "for gene_name in gene_candidates:\n",
    "    pdbIds = reduce(lambda x, y:x|y, map(set, filteredPdbByGeneIds[gene_name].values()), set())\n",
    "    genes = reduce(lambda x, y: x|y, [set(keggCache[k]) for k in filteredPdbByGeneIds[gene_name] if k in keggCache], set())\n",
    "    reorderedAndFiltered[gene_name] = (\n",
    "        genes\n",
    "        , pdbIds)\n",
    "    \n",
    "with open(\"gene_name_to_gene_ids_pdb_ids_filtered_by_cys.pickle\",\"wb\") as f:\n",
    "    pickle.dump(reorderedAndFiltered,f)  \n"
   ]
  },
  {
   "cell_type": "code",
   "execution_count": 83,
   "metadata": {
    "collapsed": false
   },
   "outputs": [],
   "source": [
    "reorderedAndFiltered;"
   ]
  },
  {
   "cell_type": "code",
   "execution_count": 84,
   "metadata": {
    "collapsed": false
   },
   "outputs": [
    {
     "name": "stdout",
     "output_type": "stream",
     "text": [
      "total 1164\n",
      "with pdb information 1146\n"
     ]
    }
   ],
   "source": [
    "len(list(filteredPdbByGeneIds))\n",
    "\n",
    "filtered_candidates = list(filter(lambda x: x!='', list(filteredPdbByGeneIds)))\n",
    "print(\"total\", len(filtered_candidates))\n",
    "filtered_candidates = list(filter(lambda x: x!='' and len(filteredPdbByGeneIds[x]) > 0, list(filteredPdbByGeneIds)))\n",
    "print(\"with pdb information\", len(filtered_candidates))"
   ]
  },
  {
   "cell_type": "code",
   "execution_count": 85,
   "metadata": {
    "collapsed": false
   },
   "outputs": [
    {
     "data": {
      "text/plain": [
       "13191"
      ]
     },
     "execution_count": 85,
     "metadata": {},
     "output_type": "execute_result"
    }
   ],
   "source": [
    "totalPdb = reduce(lambda x, y:x|y, \n",
    "[\n",
    "    reduce(lambda x, y:x|y, map(set, filteredPdbByGeneIds[gene].values()) , set())\n",
    "for gene in filteredPdbByGeneIds], set())\n",
    "len(totalPdb)"
   ]
  },
  {
   "cell_type": "markdown",
   "metadata": {},
   "source": [
    "цистеин есть почти везде:)"
   ]
  },
  {
   "cell_type": "code",
   "execution_count": 90,
   "metadata": {
    "collapsed": false
   },
   "outputs": [],
   "source": [
    "from structure_processor import *"
   ]
  },
  {
   "cell_type": "code",
   "execution_count": 87,
   "metadata": {
    "collapsed": false
   },
   "outputs": [
    {
     "data": {
      "text/plain": [
       "{'hsa:10133': ['5EOF', '5EOA', '5B83', '5AAZ', '2LO4'],\n",
       " 'hsa:5764': ['2N6F'],\n",
       " 'hsa:5771': ['1L8K'],\n",
       " 'hsa:6375': ['2N54', '2JP1', '2HDM', '1J9O', '1J8I']}"
      ]
     },
     "execution_count": 87,
     "metadata": {},
     "output_type": "execute_result"
    }
   ],
   "source": [
    "pdbIdsByGene"
   ]
  },
  {
   "cell_type": "code",
   "execution_count": 49,
   "metadata": {
    "collapsed": false
   },
   "outputs": [],
   "source": [
    "orderedGeneNames=sorted([(\n",
    "    sum(\n",
    "        [len(filteredPdbByGeneIds[gene][geneId]) for geneId in filteredPdbByGeneIds[gene]])\n",
    ", gene) \n",
    "for gene in filteredPdbByGeneIds ], reverse=True)\n"
   ]
  },
  {
   "cell_type": "code",
   "execution_count": 53,
   "metadata": {
    "collapsed": false
   },
   "outputs": [],
   "source": [
    "with open(\"gene_stats.csv\", \"w\") as f:\n",
    "    for (number, name) in orderedGeneNames:\n",
    "        f.write(name +\";\"+str(number)+\"\\n\")"
   ]
  },
  {
   "cell_type": "code",
   "execution_count": 88,
   "metadata": {
    "collapsed": false
   },
   "outputs": [
    {
     "data": {
      "text/plain": [
       "{'hsa:2593': ['3ORH'],\n",
       " 'hsa:50484': ['4DJN', '3HF1', '2VUX'],\n",
       " 'hsa:51002': ['3ENP'],\n",
       " 'hsa:57103': ['3DCY'],\n",
       " 'hsa:6288': ['4IP8', '4IP9'],\n",
       " 'hsa:7157': ['3D06',\n",
       "  '5G4N',\n",
       "  '5AOK',\n",
       "  '3ZME',\n",
       "  '5AB9',\n",
       "  '5G4M',\n",
       "  '5A7B',\n",
       "  '3D08',\n",
       "  '5LAP',\n",
       "  '4AGQ',\n",
       "  '4IBY',\n",
       "  '4AGO',\n",
       "  '5AOJ',\n",
       "  '5G4O',\n",
       "  '5AOL',\n",
       "  '4KVP',\n",
       "  '4AGP',\n",
       "  '1AIE',\n",
       "  '4AGM',\n",
       "  '2PCX',\n",
       "  '4AGN',\n",
       "  '2X0U',\n",
       "  '2B3G',\n",
       "  '5ABA',\n",
       "  '2J1X',\n",
       "  '2XWR',\n",
       "  '2J1Y',\n",
       "  '4IBT',\n",
       "  '4IBU',\n",
       "  '4AGL',\n",
       "  '3IGK',\n",
       "  '3D05',\n",
       "  '1C26',\n",
       "  '5AOM',\n",
       "  '2WGX',\n",
       "  '5AOI',\n",
       "  '4IJT',\n",
       "  '4IBS',\n",
       "  '4IBW',\n",
       "  '4IBQ',\n",
       "  '2X0V',\n",
       "  '3IGL',\n",
       "  '3D0A',\n",
       "  '2AC0',\n",
       "  '5BUA',\n",
       "  '4LOE',\n",
       "  '2AHI',\n",
       "  '2YBG',\n",
       "  '3D09',\n",
       "  '4HJE',\n",
       "  '3KZ8',\n",
       "  '4QO1',\n",
       "  '4IBZ',\n",
       "  '2BIM',\n",
       "  '4LOF',\n",
       "  '2OCJ',\n",
       "  '4IBV',\n",
       "  '2X0W',\n",
       "  '3KMD',\n",
       "  '3D07',\n",
       "  '2ATA',\n",
       "  '1YCS',\n",
       "  '1TSR',\n",
       "  '1TUP',\n",
       "  '4XR8',\n",
       "  '4LO9',\n",
       "  '2ADY',\n",
       "  '1KZY',\n",
       "  '5LGY',\n",
       "  '5ECG',\n",
       "  '2H1L',\n",
       "  '2MZD',\n",
       "  '2RUK',\n",
       "  '2MEJ',\n",
       "  '2LY4',\n",
       "  '2L14',\n",
       "  '2K8F',\n",
       "  '2VUK',\n",
       "  '2J1W',\n",
       "  '2J1Z',\n",
       "  '2J20',\n",
       "  '2J21',\n",
       "  '2J0Z',\n",
       "  '2GS0',\n",
       "  '2FEJ',\n",
       "  '2BIN',\n",
       "  '2BIO',\n",
       "  '2BIP',\n",
       "  '2BIQ',\n",
       "  '1UOL',\n",
       "  '1GZH',\n",
       "  '3SAK',\n",
       "  '1SAE',\n",
       "  '1SAF',\n",
       "  '1SAK',\n",
       "  '1SAL',\n",
       "  '1PES',\n",
       "  '1PET',\n",
       "  '1OLG',\n",
       "  '1OLH'],\n",
       " 'hsa:7158': ['2G3R',\n",
       "  '4RG2',\n",
       "  '3LGF',\n",
       "  '3LGL',\n",
       "  '2IG0',\n",
       "  '4X34',\n",
       "  '3LH0',\n",
       "  '4CRI',\n",
       "  '5J26',\n",
       "  '1KZY',\n",
       "  '1XNI',\n",
       "  '5ECG',\n",
       "  '5KGF',\n",
       "  '2MWO',\n",
       "  '2MWP',\n",
       "  '2LVM',\n",
       "  '1GZH'],\n",
       " 'hsa:7159': ['4IRV', '1YCS', '4A63', '2UWQ'],\n",
       " 'hsa:8379': ['4DZO', '1GO4'],\n",
       " 'hsa:8626': ['2Y9U',\n",
       "  '3ZY0',\n",
       "  '3ZY1',\n",
       "  '4A9Z',\n",
       "  '3US0',\n",
       "  '3QYN',\n",
       "  '3US1',\n",
       "  '3QYM',\n",
       "  '3US2',\n",
       "  '2NB1',\n",
       "  '2Y9T',\n",
       "  '2RMN',\n",
       "  '1RG6'],\n",
       " 'hsa:9536': ['4AL0',\n",
       "  '5K0I',\n",
       "  '4YL1',\n",
       "  '4YL3',\n",
       "  '4YK5',\n",
       "  '5BQG',\n",
       "  '4YL0',\n",
       "  '5BQH',\n",
       "  '5BQI',\n",
       "  '4AL1',\n",
       "  '4WAB',\n",
       "  '3DWW'],\n",
       " 'hsa:9540': ['2J8Z', '2OBY']}"
      ]
     },
     "execution_count": 88,
     "metadata": {},
     "output_type": "execute_result"
    }
   ],
   "source": [
    "filteredPdbByGeneIds[\"TP53\"]"
   ]
  },
  {
   "cell_type": "code",
   "execution_count": null,
   "metadata": {
    "collapsed": false
   },
   "outputs": [],
   "source": []
  },
  {
   "cell_type": "code",
   "execution_count": null,
   "metadata": {
    "collapsed": true
   },
   "outputs": [],
   "source": []
  }
 ],
 "metadata": {
  "kernelspec": {
   "display_name": "Python 3",
   "language": "python",
   "name": "python3"
  },
  "language_info": {
   "codemirror_mode": {
    "name": "ipython",
    "version": 3
   },
   "file_extension": ".py",
   "mimetype": "text/x-python",
   "name": "python",
   "nbconvert_exporter": "python",
   "pygments_lexer": "ipython3",
   "version": "3.6.0"
  }
 },
 "nbformat": 4,
 "nbformat_minor": 2
}
