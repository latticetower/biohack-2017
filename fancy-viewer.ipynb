{
 "cells": [
  {
   "cell_type": "code",
   "execution_count": 2,
   "metadata": {
    "collapsed": false,
    "deletable": true,
    "editable": true
   },
   "outputs": [
    {
     "name": "stderr",
     "output_type": "stream",
     "text": [
      "DEBUG:.prody:PDB file is found in the local folder (/Users/lacemaker/.../2osl.pdb.gz).\n",
      "DEBUG:.prody:7100 atoms and 1 coordinate set(s) were parsed in 0.06s.\n",
      "DEBUG:.prody:7100 atoms and 1 coordinate set(s) were parsed in 0.07s.\n",
      "The installed widget Javascript is the wrong version.\n",
      "The installed widget Javascript is the wrong version.\n"
     ]
    }
   ],
   "source": [
    "import nglview as nv\n",
    "import Bio.PDB as pdb\n",
    "from structure_processor import getPairInformation\n",
    "import prody\n",
    "pdbid = \"2osl\" #sample\n",
    "reference_chain=\"L\"\n",
    "pair_chain=\"H\"\n",
    "struc = nv.PdbIdStructure(pdbid)\n",
    "view = nv.NGLWidget(structure = struc)\n",
    "view.clear_representations()\n",
    "\n",
    "# Доступные представления:\n",
    "# backbone\n",
    "# ball+stick\n",
    "# base\n",
    "# cartoon\n",
    "# contact\n",
    "# helixorient\n",
    "# hyperball\n",
    "# label\n",
    "# licorice\n",
    "# line\n",
    "# point\n",
    "# ribbon\n",
    "# rocket\n",
    "# rope\n",
    "# spacefill\n",
    "# surface\n",
    "# trace\n",
    "# tube\n",
    "\n",
    "# Язык запросов для selection: http://arose.github.io/ngl/api/tutorial-selection-language.html\n",
    "pdbid, refchain, refnum, pairchain, pairnum, sulfur_pairs = getPairInformation(pdbid, reference_chain, pair_chain, cutoff=5, covalent_bond_cutoff=2.5)\n",
    "refcolor = \"blue\"\n",
    "paircolor=\"red\"\n",
    "view.add_representation(selection=':'+reference_chain, repr_type='trace', color=refcolor)\n",
    "view.add_representation(selection=':'+pair_chain, repr_type='trace', color=paircolor)\n",
    "view.add_representation(selection=\"(\"+ \" or \".join(map(str, refnum)) + \") and :\"+reference_chain, \n",
    "                        repr_type='cartoon', color=refcolor)\n",
    "view.add_representation(selection=\"(\"+ \" or \".join(map(str, pairnum)) + \") and :\"+pair_chain, \n",
    "                        repr_type='cartoon', color=paircolor)\n",
    "\n",
    "atoms = prody.parsePDB(\"pdb/%s.pdb.gz\"%pdbid)\n",
    "arrow=[]\n",
    "reference_residues = set()\n",
    "pair_residues = set()\n",
    "for (r, c) in sulfur_pairs:\n",
    "    atom1 = [a for a in atoms.select(\"index %s\"% r)][0]\n",
    "    atom2 = [a for a in atoms.select(\"index %s\"% c)][0]\n",
    "    coord1=atom1.getCoords().tolist()\n",
    "    coord2=atom2.getCoords().tolist()\n",
    "    #coord1 = atom1.get_vector().get_array().\n",
    "    #coord2 = atom2.get_vector().get_array().tolist()\n",
    "    reference_residues.add(str(atom1.getResindex())+\":\"+reference_chain)\n",
    "    pair_residues.add(str(atom1.getResindex())+\":\"+pair_chain)\n",
    "    #print(str(atom1.getResindex())+\":\"+pair_chain)\n",
    "\n",
    "    arrow.append( ('cylinder', coord1, coord2, [1, 0, 1], 1.0))\n",
    "\n",
    "view.add_representation(selection=\" or \".join(reference_residues), \n",
    "                        repr_type='balls+sticks', color=\"yellow\")\n",
    "view.add_representation(selection=\" or \".join(pair_residues), \n",
    "                        repr_type='balls+lines', color=\"yellow\")\n",
    "view._add_shape([arrow], name='my_shape')\n",
    "\n",
    "view"
   ]
  },
  {
   "cell_type": "code",
   "execution_count": null,
   "metadata": {
    "collapsed": true
   },
   "outputs": [],
   "source": []
  }
 ],
 "metadata": {
  "kernelspec": {
   "display_name": "Python 3",
   "language": "python",
   "name": "python3"
  },
  "language_info": {
   "codemirror_mode": {
    "name": "ipython",
    "version": 3
   },
   "file_extension": ".py",
   "mimetype": "text/x-python",
   "name": "python",
   "nbconvert_exporter": "python",
   "pygments_lexer": "ipython3",
   "version": "3.6.0"
  },
  "widgets": {
   "application/vnd.jupyter.widget-state+json": {
    "state": {},
    "version_major": 1,
    "version_minor": 0
   }
  }
 },
 "nbformat": 4,
 "nbformat_minor": 2
}
